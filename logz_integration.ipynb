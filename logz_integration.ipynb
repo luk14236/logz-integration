{
  "nbformat": 4,
  "nbformat_minor": 0,
  "metadata": {
    "colab": {
      "provenance": []
    },
    "kernelspec": {
      "name": "python3",
      "display_name": "Python 3"
    },
    "language_info": {
      "name": "python"
    }
  },
  "cells": [
    {
      "cell_type": "code",
      "execution_count": null,
      "metadata": {
        "id": "8V8kn2W-rdUs"
      },
      "outputs": [],
      "source": [
        "!pip install logzio-python-handler\n",
        "!pip install tox"
      ]
    },
    {
      "cell_type": "code",
      "source": [
        "import logging\n",
        "from logzio.handler import LogzioHandler"
      ],
      "metadata": {
        "id": "lr8XV75brkti"
      },
      "execution_count": null,
      "outputs": []
    },
    {
      "cell_type": "code",
      "source": [
        "def get_logger(logz_token):\n",
        "    LOGGING = {\n",
        "        'version': 1,\n",
        "        'disable_existing_loggers': False,\n",
        "        'formatters': {\n",
        "            'logzioFormat': {\n",
        "                'format': '{\"additional_field\": \"value\"}',\n",
        "                'validate': False\n",
        "            }\n",
        "        },\n",
        "        'handlers': {\n",
        "            'logzio': {\n",
        "                'class': 'logzio.handler.LogzioHandler',\n",
        "                'level': 'INFO',\n",
        "                'formatter': 'logzioFormat',\n",
        "                'token': logz_token,\n",
        "                'logzio_type': 'python-handler',\n",
        "                'logs_drain_timeout': 5,\n",
        "                'url': 'https://listener-eu.logz.io:8071'\n",
        "            }\n",
        "        },\n",
        "        'loggers': {\n",
        "            '': {\n",
        "                'level': 'DEBUG',\n",
        "                'handlers': ['logzio'],\n",
        "                'propagate': True\n",
        "            }\n",
        "        }\n",
        "    }\n",
        "\n",
        "    logging.config.dictConfig(LOGGING)\n",
        "    return logging.getLogger('superAwesomeLogzioLogger')"
      ],
      "metadata": {
        "id": "3-_TX1DItEnP"
      },
      "execution_count": null,
      "outputs": []
    },
    {
      "cell_type": "code",
      "source": [
        "logger = get_logger('api-key')\n",
        "\n",
        "\n",
        "@LogzioFlusher(logger)\n",
        "try:\n",
        "  logger.info(\"New checkin created\", extra={\"custom_field1\":\"test1\", \"custom_field2\": \"BATATA\", \"custom_field3\":\"coracao\", \"statusCode\":201})\n",
        "except Exception as ex:\n",
        "  logger.exception(\"Supporting exceptions too! {0}\".format(ex))"
      ],
      "metadata": {
        "id": "P2Ds0UVvsV9C"
      },
      "execution_count": null,
      "outputs": []
    }
  ]
}